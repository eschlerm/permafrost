{
 "cells": [
  {
   "cell_type": "code",
   "execution_count": 9,
   "id": "1e2c66cb",
   "metadata": {},
   "outputs": [],
   "source": [
    "import numpy as np\n",
    "import matplotlib as mpl\n",
    "import matplotlib.pyplot as plt\n",
    "import matplotlib.colors"
   ]
  },
  {
   "cell_type": "markdown",
   "id": "b019ac18",
   "metadata": {},
   "source": [
    "https://stackoverflow.com/questions/47222585/matplotlib-generic-colormap-from-tab10"
   ]
  },
  {
   "cell_type": "code",
   "execution_count": 10,
   "id": "6a56b831",
   "metadata": {},
   "outputs": [
    {
     "data": {
      "image/png": "[encoded data removed]",
      "text/plain": [
       "<Figure size 432x288 with 1 Axes>"
      ]
     },
     "metadata": {
      "needs_background": "light"
     },
     "output_type": "display_data"
    }
   ],
   "source": [
    "def categorical_cmap(nc, nsc, cmap=\"tab10\", continuous=False):\n",
    "    if nc > plt.get_cmap(cmap).N:\n",
    "        raise ValueError(\"Too many categories for colormap.\")\n",
    "    if continuous:\n",
    "        ccolors = plt.get_cmap(cmap)(np.linspace(0,1,nc))\n",
    "    else:\n",
    "        ccolors = plt.get_cmap(cmap)(np.arange(nc, dtype=int))\n",
    "    cols = np.zeros((nc*nsc, 3))\n",
    "    for i, c in enumerate(ccolors):\n",
    "        chsv = matplotlib.colors.rgb_to_hsv(c[:3])\n",
    "        arhsv = np.tile(chsv,nsc).reshape(nsc,3)\n",
    "        arhsv[:,1] = np.linspace(chsv[1],0.25,nsc)\n",
    "        arhsv[:,2] = np.linspace(chsv[2],1,nsc)\n",
    "        rgb = matplotlib.colors.hsv_to_rgb(arhsv)\n",
    "        cols[i*nsc:(i+1)*nsc,:] = rgb       \n",
    "    cmap = matplotlib.colors.ListedColormap(cols)\n",
    "    return cmap\n",
    "\n",
    "c1 = categorical_cmap(4, 3, cmap=\"tab10\")\n",
    "plt.scatter(np.arange(4*3),np.ones(4*3)+1, c=np.arange(4*3), s=180, cmap=c1)\n",
    "\n",
    "c2 = categorical_cmap(5, 5, cmap=\"tab10\")\n",
    "plt.scatter(np.arange(25),np.ones(25), c=np.arange(25), s=180, cmap=c2)\n",
    "\n",
    "c3 = categorical_cmap(5, 4, cmap=\"tab10\")\n",
    "plt.scatter(np.arange(20),np.ones(20)-1, c=np.arange(20), s=180, cmap=c3)    \n",
    "\n",
    "plt.margins(y=0.3)\n",
    "plt.xticks([])\n",
    "plt.yticks([0,1,2],[\"(5, 4)\", \"(2, 5)\", \"(4, 3)\"])\n",
    "plt.show()"
   ]
  },
  {
   "cell_type": "markdown",
   "id": "8a226a2d",
   "metadata": {},
   "source": [
    "https://medium.datadriveninvestor.com/creating-a-discrete-colorbar-with-custom-bin-sizes-in-matplotlib-50b0daf8dd46"
   ]
  },
  {
   "cell_type": "code",
   "execution_count": 11,
   "id": "0c3e5427",
   "metadata": {},
   "outputs": [
    {
     "data": {
      "image/png": "[encoded data removed]",
      "text/plain": [
       "<Figure size 432x72 with 1 Axes>"
      ]
     },
     "metadata": {
      "needs_background": "light"
     },
     "output_type": "display_data"
    }
   ],
   "source": [
    "colours = ['#ffbe0b', '#fb5607', '#ff006e', '#8338ec', '#3a86ff','k']\n",
    "bins = [1850, 1900, 1950, 2000, 2050, 2100]\n",
    "\n",
    "assert len(bins)== len(colours)\n",
    "cmap = mpl.colors.ListedColormap(colours)\n",
    "norm = mpl.colors.BoundaryNorm(boundaries=bins, ncolors=len(cmap.colors)-1 )\n",
    "\n",
    "fig, ax = plt.subplots(figsize=(6, 1))\n",
    "fig.subplots_adjust(bottom=0.5)\n",
    "cb2 = mpl.colorbar.ColorbarBase(ax, cmap=cmap,\n",
    "                                norm=norm,\n",
    "                                boundaries= [-1849] + bins + [2100],\n",
    "                                extend='both',\n",
    "                                ticks=bins,\n",
    "                                spacing='proportional',\n",
    "                                orientation='horizontal')\n",
    "cb2.set_label('Custom colour bar')\n",
    "plt.show()\n"
   ]
  },
  {
   "cell_type": "code",
   "execution_count": null,
   "id": "70125e29",
   "metadata": {},
   "outputs": [],
   "source": []
  }
 ],
 "metadata": {
  "kernelspec": {
   "display_name": "Python 3",
   "language": "python",
   "name": "python3"
  },
  "language_info": {
   "codemirror_mode": {
    "name": "ipython",
    "version": 3
   },
   "file_extension": ".py",
   "mimetype": "text/x-python",
   "name": "python",
   "nbconvert_exporter": "python",
   "pygments_lexer": "ipython3",
   "version": "3.7.10"
  }
 },
 "nbformat": 4,
 "nbformat_minor": 5
}
